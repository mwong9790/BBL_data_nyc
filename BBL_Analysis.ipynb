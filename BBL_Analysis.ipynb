{
 "cells": [
  {
   "cell_type": "code",
   "execution_count": 3,
   "metadata": {},
   "outputs": [],
   "source": [
    "# Render our plots inline\n",
    "%matplotlib inline\n",
    "%config InlineBackend.figure_format = 'retina'"
   ]
  },
  {
   "cell_type": "code",
   "execution_count": 4,
   "metadata": {},
   "outputs": [],
   "source": [
    "import pandas as pd\n",
    "import matplotlib\n",
    "import matplotlib.pyplot as plt\n",
    "import seaborn as sns"
   ]
  },
  {
   "cell_type": "code",
   "execution_count": 5,
   "metadata": {},
   "outputs": [],
   "source": [
    "# Make the graphs a bit bigger\n",
    "matplotlib.style.use(['seaborn-talk', 'seaborn-ticks', 'seaborn-whitegrid'])"
   ]
  },
  {
   "cell_type": "code",
   "execution_count": 6,
   "metadata": {},
   "outputs": [],
   "source": [
    "BBL = pd.read_csv(\"BBL_data.csv\", \n",
    "                          encoding='utf_8', \n",
    "                          dtype = 'unicode',\n",
    "                          parse_dates = True,\n",
    "                          infer_datetime_format = True,\n",
    "                          low_memory=False)"
   ]
  },
  {
   "cell_type": "code",
   "execution_count": 7,
   "metadata": {},
   "outputs": [],
   "source": [
    "BBL[\"X2014uc\"]=pd.to_numeric(BBL[\"X2014uc\"])\n",
    "BBL[\"freq\"]=pd.to_numeric(BBL[\"freq\"])"
   ]
  },
  {
   "cell_type": "code",
   "execution_count": 8,
   "metadata": {},
   "outputs": [
    {
     "data": {
      "text/plain": [
       "Unnamed: 0     object\n",
       "Borough        object\n",
       "Block          object\n",
       "Lot            object\n",
       "CD             object\n",
       "CT2010         object\n",
       "CB2010         object\n",
       "SchoolDist     object\n",
       "Council        object\n",
       "ZipCode        object\n",
       "FireComp       object\n",
       "PolicePrct     object\n",
       "Address        object\n",
       "ZoneDist1      object\n",
       "ZoneDist2      object\n",
       "ZoneDist3      object\n",
       "ZoneDist4      object\n",
       "Overlay1       object\n",
       "Overlay2       object\n",
       "SPDist1        object\n",
       "SPDist2        object\n",
       "LtdHeight      object\n",
       "AllZoning1     object\n",
       "AllZoning2     object\n",
       "SplitZone      object\n",
       "BldgClass      object\n",
       "LandUse        object\n",
       "Easements      object\n",
       "OwnerType      object\n",
       "OwnerName      object\n",
       "               ...   \n",
       "YearBuilt      object\n",
       "BuiltCode      object\n",
       "YearAlter1     object\n",
       "YearAlter2     object\n",
       "HistDist       object\n",
       "Landmark       object\n",
       "BuiltFAR       object\n",
       "ResidFAR       object\n",
       "CommFAR        object\n",
       "FacilFAR       object\n",
       "BoroCode       object\n",
       "BBL            object\n",
       "CondoNo        object\n",
       "Tract2010      object\n",
       "XCoord         object\n",
       "YCoord         object\n",
       "ZoneMap        object\n",
       "ZMCode         object\n",
       "Sanborn        object\n",
       "TaxMap         object\n",
       "EDesigNum      object\n",
       "APPBBL         object\n",
       "APPDate        object\n",
       "PLUTOMapID     object\n",
       "Version        object\n",
       "freq            int64\n",
       "X2014uc       float64\n",
       "X2014est       object\n",
       "X2014dhcr      object\n",
       "X2014abat      object\n",
       "Length: 88, dtype: object"
      ]
     },
     "execution_count": 8,
     "metadata": {},
     "output_type": "execute_result"
    }
   ],
   "source": [
    "BBL.dtypes"
   ]
  },
  {
   "cell_type": "code",
   "execution_count": 9,
   "metadata": {},
   "outputs": [],
   "source": [
    "rent_cntrl_condition=(BBL['X2014uc']  >= 1)\n",
    "rent_cntrl=BBL[rent_cntrl_condition]"
   ]
  },
  {
   "cell_type": "code",
   "execution_count": 10,
   "metadata": {},
   "outputs": [
    {
     "data": {
      "text/plain": [
       "count    38875.000000\n",
       "mean         6.914675\n",
       "std         21.774998\n",
       "min          0.000000\n",
       "25%          0.000000\n",
       "50%          0.000000\n",
       "75%          5.000000\n",
       "max        555.000000\n",
       "Name: freq, dtype: float64"
      ]
     },
     "execution_count": 10,
     "metadata": {},
     "output_type": "execute_result"
    }
   ],
   "source": [
    "rent_cntrl[\"freq\"].describe()"
   ]
  },
  {
   "cell_type": "code",
   "execution_count": 11,
   "metadata": {},
   "outputs": [
    {
     "data": {
      "text/html": [
       "<div>\n",
       "<style scoped>\n",
       "    .dataframe tbody tr th:only-of-type {\n",
       "        vertical-align: middle;\n",
       "    }\n",
       "\n",
       "    .dataframe tbody tr th {\n",
       "        vertical-align: top;\n",
       "    }\n",
       "\n",
       "    .dataframe thead th {\n",
       "        text-align: right;\n",
       "    }\n",
       "</style>\n",
       "<table border=\"1\" class=\"dataframe\">\n",
       "  <thead>\n",
       "    <tr style=\"text-align: right;\">\n",
       "      <th></th>\n",
       "      <th>Unnamed: 0</th>\n",
       "      <th>Borough</th>\n",
       "      <th>Block</th>\n",
       "      <th>Lot</th>\n",
       "      <th>CD</th>\n",
       "      <th>CT2010</th>\n",
       "      <th>CB2010</th>\n",
       "      <th>SchoolDist</th>\n",
       "      <th>Council</th>\n",
       "      <th>ZipCode</th>\n",
       "      <th>...</th>\n",
       "      <th>EDesigNum</th>\n",
       "      <th>APPBBL</th>\n",
       "      <th>APPDate</th>\n",
       "      <th>PLUTOMapID</th>\n",
       "      <th>Version</th>\n",
       "      <th>freq</th>\n",
       "      <th>X2014uc</th>\n",
       "      <th>X2014est</th>\n",
       "      <th>X2014dhcr</th>\n",
       "      <th>X2014abat</th>\n",
       "    </tr>\n",
       "  </thead>\n",
       "  <tbody>\n",
       "    <tr>\n",
       "      <th>0</th>\n",
       "      <td>1</td>\n",
       "      <td>BK</td>\n",
       "      <td>1</td>\n",
       "      <td>1</td>\n",
       "      <td>302</td>\n",
       "      <td>21</td>\n",
       "      <td>2000</td>\n",
       "      <td>13</td>\n",
       "      <td>33</td>\n",
       "      <td>11201</td>\n",
       "      <td>...</td>\n",
       "      <td>NaN</td>\n",
       "      <td>3000010001</td>\n",
       "      <td>11/26/2013</td>\n",
       "      <td>1</td>\n",
       "      <td>14v1</td>\n",
       "      <td>0</td>\n",
       "      <td>NaN</td>\n",
       "      <td>NaN</td>\n",
       "      <td>NaN</td>\n",
       "      <td>NaN</td>\n",
       "    </tr>\n",
       "    <tr>\n",
       "      <th>1</th>\n",
       "      <td>2</td>\n",
       "      <td>BK</td>\n",
       "      <td>1</td>\n",
       "      <td>2</td>\n",
       "      <td>302</td>\n",
       "      <td>21</td>\n",
       "      <td>NaN</td>\n",
       "      <td>13</td>\n",
       "      <td>33</td>\n",
       "      <td>11201</td>\n",
       "      <td>...</td>\n",
       "      <td>NaN</td>\n",
       "      <td>3000010001</td>\n",
       "      <td>11/26/2013</td>\n",
       "      <td>1</td>\n",
       "      <td>14v1</td>\n",
       "      <td>0</td>\n",
       "      <td>NaN</td>\n",
       "      <td>NaN</td>\n",
       "      <td>NaN</td>\n",
       "      <td>NaN</td>\n",
       "    </tr>\n",
       "    <tr>\n",
       "      <th>2</th>\n",
       "      <td>3</td>\n",
       "      <td>BK</td>\n",
       "      <td>1</td>\n",
       "      <td>50</td>\n",
       "      <td>302</td>\n",
       "      <td>21</td>\n",
       "      <td>2000</td>\n",
       "      <td>13</td>\n",
       "      <td>33</td>\n",
       "      <td>11201</td>\n",
       "      <td>...</td>\n",
       "      <td>E-231</td>\n",
       "      <td>0</td>\n",
       "      <td>NaN</td>\n",
       "      <td>1</td>\n",
       "      <td>14v1</td>\n",
       "      <td>0</td>\n",
       "      <td>NaN</td>\n",
       "      <td>NaN</td>\n",
       "      <td>NaN</td>\n",
       "      <td>NaN</td>\n",
       "    </tr>\n",
       "    <tr>\n",
       "      <th>3</th>\n",
       "      <td>4</td>\n",
       "      <td>BK</td>\n",
       "      <td>3</td>\n",
       "      <td>1</td>\n",
       "      <td>302</td>\n",
       "      <td>21</td>\n",
       "      <td>3002</td>\n",
       "      <td>13</td>\n",
       "      <td>33</td>\n",
       "      <td>11201</td>\n",
       "      <td>...</td>\n",
       "      <td>NaN</td>\n",
       "      <td>0</td>\n",
       "      <td>NaN</td>\n",
       "      <td>1</td>\n",
       "      <td>14v1</td>\n",
       "      <td>0</td>\n",
       "      <td>NaN</td>\n",
       "      <td>NaN</td>\n",
       "      <td>NaN</td>\n",
       "      <td>NaN</td>\n",
       "    </tr>\n",
       "    <tr>\n",
       "      <th>4</th>\n",
       "      <td>5</td>\n",
       "      <td>BK</td>\n",
       "      <td>3</td>\n",
       "      <td>5</td>\n",
       "      <td>302</td>\n",
       "      <td>21</td>\n",
       "      <td>NaN</td>\n",
       "      <td>13</td>\n",
       "      <td>33</td>\n",
       "      <td>11201</td>\n",
       "      <td>...</td>\n",
       "      <td>NaN</td>\n",
       "      <td>0</td>\n",
       "      <td>NaN</td>\n",
       "      <td>4</td>\n",
       "      <td>14v1</td>\n",
       "      <td>0</td>\n",
       "      <td>NaN</td>\n",
       "      <td>NaN</td>\n",
       "      <td>NaN</td>\n",
       "      <td>NaN</td>\n",
       "    </tr>\n",
       "    <tr>\n",
       "      <th>5</th>\n",
       "      <td>6</td>\n",
       "      <td>BK</td>\n",
       "      <td>3</td>\n",
       "      <td>35</td>\n",
       "      <td>302</td>\n",
       "      <td>21</td>\n",
       "      <td>NaN</td>\n",
       "      <td>13</td>\n",
       "      <td>33</td>\n",
       "      <td>11201</td>\n",
       "      <td>...</td>\n",
       "      <td>NaN</td>\n",
       "      <td>0</td>\n",
       "      <td>NaN</td>\n",
       "      <td>2</td>\n",
       "      <td>14v1</td>\n",
       "      <td>0</td>\n",
       "      <td>NaN</td>\n",
       "      <td>NaN</td>\n",
       "      <td>NaN</td>\n",
       "      <td>NaN</td>\n",
       "    </tr>\n",
       "    <tr>\n",
       "      <th>6</th>\n",
       "      <td>7</td>\n",
       "      <td>BK</td>\n",
       "      <td>5</td>\n",
       "      <td>1</td>\n",
       "      <td>302</td>\n",
       "      <td>21</td>\n",
       "      <td>3001</td>\n",
       "      <td>13</td>\n",
       "      <td>33</td>\n",
       "      <td>11201</td>\n",
       "      <td>...</td>\n",
       "      <td>NaN</td>\n",
       "      <td>0</td>\n",
       "      <td>NaN</td>\n",
       "      <td>1</td>\n",
       "      <td>14v1</td>\n",
       "      <td>0</td>\n",
       "      <td>NaN</td>\n",
       "      <td>NaN</td>\n",
       "      <td>NaN</td>\n",
       "      <td>NaN</td>\n",
       "    </tr>\n",
       "    <tr>\n",
       "      <th>7</th>\n",
       "      <td>8</td>\n",
       "      <td>BK</td>\n",
       "      <td>5</td>\n",
       "      <td>8</td>\n",
       "      <td>302</td>\n",
       "      <td>21</td>\n",
       "      <td>NaN</td>\n",
       "      <td>13</td>\n",
       "      <td>33</td>\n",
       "      <td>11201</td>\n",
       "      <td>...</td>\n",
       "      <td>NaN</td>\n",
       "      <td>0</td>\n",
       "      <td>NaN</td>\n",
       "      <td>4</td>\n",
       "      <td>14v1</td>\n",
       "      <td>0</td>\n",
       "      <td>NaN</td>\n",
       "      <td>NaN</td>\n",
       "      <td>NaN</td>\n",
       "      <td>NaN</td>\n",
       "    </tr>\n",
       "    <tr>\n",
       "      <th>8</th>\n",
       "      <td>9</td>\n",
       "      <td>BK</td>\n",
       "      <td>6</td>\n",
       "      <td>1</td>\n",
       "      <td>302</td>\n",
       "      <td>21</td>\n",
       "      <td>3000</td>\n",
       "      <td>13</td>\n",
       "      <td>33</td>\n",
       "      <td>11201</td>\n",
       "      <td>...</td>\n",
       "      <td>NaN</td>\n",
       "      <td>0</td>\n",
       "      <td>NaN</td>\n",
       "      <td>1</td>\n",
       "      <td>14v1</td>\n",
       "      <td>0</td>\n",
       "      <td>NaN</td>\n",
       "      <td>NaN</td>\n",
       "      <td>NaN</td>\n",
       "      <td>NaN</td>\n",
       "    </tr>\n",
       "    <tr>\n",
       "      <th>9</th>\n",
       "      <td>10</td>\n",
       "      <td>BK</td>\n",
       "      <td>6</td>\n",
       "      <td>10</td>\n",
       "      <td>302</td>\n",
       "      <td>21</td>\n",
       "      <td>NaN</td>\n",
       "      <td>13</td>\n",
       "      <td>33</td>\n",
       "      <td>11201</td>\n",
       "      <td>...</td>\n",
       "      <td>NaN</td>\n",
       "      <td>0</td>\n",
       "      <td>NaN</td>\n",
       "      <td>1</td>\n",
       "      <td>14v1</td>\n",
       "      <td>0</td>\n",
       "      <td>NaN</td>\n",
       "      <td>NaN</td>\n",
       "      <td>NaN</td>\n",
       "      <td>NaN</td>\n",
       "    </tr>\n",
       "  </tbody>\n",
       "</table>\n",
       "<p>10 rows × 88 columns</p>\n",
       "</div>"
      ],
      "text/plain": [
       "  Unnamed: 0 Borough Block Lot   CD CT2010 CB2010 SchoolDist Council ZipCode  \\\n",
       "0          1      BK     1   1  302     21   2000         13      33   11201   \n",
       "1          2      BK     1   2  302     21    NaN         13      33   11201   \n",
       "2          3      BK     1  50  302     21   2000         13      33   11201   \n",
       "3          4      BK     3   1  302     21   3002         13      33   11201   \n",
       "4          5      BK     3   5  302     21    NaN         13      33   11201   \n",
       "5          6      BK     3  35  302     21    NaN         13      33   11201   \n",
       "6          7      BK     5   1  302     21   3001         13      33   11201   \n",
       "7          8      BK     5   8  302     21    NaN         13      33   11201   \n",
       "8          9      BK     6   1  302     21   3000         13      33   11201   \n",
       "9         10      BK     6  10  302     21    NaN         13      33   11201   \n",
       "\n",
       "   ... EDesigNum      APPBBL     APPDate PLUTOMapID Version freq X2014uc  \\\n",
       "0  ...       NaN  3000010001  11/26/2013          1    14v1    0     NaN   \n",
       "1  ...       NaN  3000010001  11/26/2013          1    14v1    0     NaN   \n",
       "2  ...     E-231           0         NaN          1    14v1    0     NaN   \n",
       "3  ...       NaN           0         NaN          1    14v1    0     NaN   \n",
       "4  ...       NaN           0         NaN          4    14v1    0     NaN   \n",
       "5  ...       NaN           0         NaN          2    14v1    0     NaN   \n",
       "6  ...       NaN           0         NaN          1    14v1    0     NaN   \n",
       "7  ...       NaN           0         NaN          4    14v1    0     NaN   \n",
       "8  ...       NaN           0         NaN          1    14v1    0     NaN   \n",
       "9  ...       NaN           0         NaN          1    14v1    0     NaN   \n",
       "\n",
       "  X2014est X2014dhcr X2014abat  \n",
       "0      NaN       NaN       NaN  \n",
       "1      NaN       NaN       NaN  \n",
       "2      NaN       NaN       NaN  \n",
       "3      NaN       NaN       NaN  \n",
       "4      NaN       NaN       NaN  \n",
       "5      NaN       NaN       NaN  \n",
       "6      NaN       NaN       NaN  \n",
       "7      NaN       NaN       NaN  \n",
       "8      NaN       NaN       NaN  \n",
       "9      NaN       NaN       NaN  \n",
       "\n",
       "[10 rows x 88 columns]"
      ]
     },
     "execution_count": 11,
     "metadata": {},
     "output_type": "execute_result"
    }
   ],
   "source": [
    "BBL.head(10)"
   ]
  },
  {
   "cell_type": "code",
   "execution_count": 12,
   "metadata": {},
   "outputs": [],
   "source": [
    "not_rent_cntrl_condition=(BBL['X2014uc'].isnull())"
   ]
  },
  {
   "cell_type": "code",
   "execution_count": 13,
   "metadata": {},
   "outputs": [],
   "source": [
    "not_rent_cntrl=BBL[not_rent_cntrl_condition]"
   ]
  },
  {
   "cell_type": "code",
   "execution_count": 15,
   "metadata": {},
   "outputs": [
    {
     "data": {
      "text/plain": [
       "count    820684.000000\n",
       "mean          0.155938\n",
       "std           2.319355\n",
       "min           0.000000\n",
       "25%           0.000000\n",
       "50%           0.000000\n",
       "75%           0.000000\n",
       "max         356.000000\n",
       "Name: freq, dtype: float64"
      ]
     },
     "execution_count": 15,
     "metadata": {},
     "output_type": "execute_result"
    }
   ],
   "source": [
    "not_rent_cntrl[\"freq\"].describe()"
   ]
  },
  {
   "cell_type": "code",
   "execution_count": 21,
   "metadata": {},
   "outputs": [
    {
     "data": {
      "text/plain": [
       "<matplotlib.axes._subplots.AxesSubplot at 0x1a1adfc4e0>"
      ]
     },
     "execution_count": 21,
     "metadata": {},
     "output_type": "execute_result"
    },
    {
     "data": {
      "image/png": "[encoded data removed]",
      "text/plain": [
       "<Figure size 748.8x514.8 with 1 Axes>"
      ]
     },
     "metadata": {
      "image/png": {
       "height": 424,
       "width": 640
      }
     },
     "output_type": "display_data"
    }
   ],
   "source": [
    "rent_cntrl[\"freq\"].hist(bins=100,  range=(0,60))"
   ]
  },
  {
   "cell_type": "code",
   "execution_count": 22,
   "metadata": {},
   "outputs": [
    {
     "data": {
      "text/plain": [
       "<matplotlib.axes._subplots.AxesSubplot at 0x1a1cd04e80>"
      ]
     },
     "execution_count": 22,
     "metadata": {},
     "output_type": "execute_result"
    },
    {
     "data": {
      "image/png": "[encoded data removed]",
      "text/plain": [
       "<Figure size 748.8x514.8 with 1 Axes>"
      ]
     },
     "metadata": {
      "image/png": {
       "height": 424,
       "width": 647
      }
     },
     "output_type": "display_data"
    }
   ],
   "source": [
    "not_rent_cntrl['freq'].hist(bins=100,  range=(0,60))"
   ]
  },
  {
   "cell_type": "code",
   "execution_count": null,
   "metadata": {},
   "outputs": [],
   "source": []
  }
 ],
 "metadata": {
  "kernelspec": {
   "display_name": "Python 3",
   "language": "python",
   "name": "python3"
  },
  "language_info": {
   "codemirror_mode": {
    "name": "ipython",
    "version": 3
   },
   "file_extension": ".py",
   "mimetype": "text/x-python",
   "name": "python",
   "nbconvert_exporter": "python",
   "pygments_lexer": "ipython3",
   "version": "3.7.3"
  }
 },
 "nbformat": 4,
 "nbformat_minor": 2
}
